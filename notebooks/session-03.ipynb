{
 "cells": [
  {
   "cell_type": "markdown",
   "metadata": {
    "vscode": {
     "languageId": "plaintext"
    }
   },
   "source": [
    "# Function, Basic Module, Package\n"
   ]
  },
  {
   "cell_type": "code",
   "execution_count": 1,
   "metadata": {},
   "outputs": [
    {
     "name": "stdout",
     "output_type": "stream",
     "text": [
      "Hello, World!\n"
     ]
    }
   ],
   "source": [
    "## function call\n",
    "# function(arg)\n",
    "print(\"Hello, World!\")"
   ]
  },
  {
   "cell_type": "code",
   "execution_count": 2,
   "metadata": {},
   "outputs": [
    {
     "data": {
      "text/plain": [
       "range(0, 5)"
      ]
     },
     "execution_count": 2,
     "metadata": {},
     "output_type": "execute_result"
    }
   ],
   "source": [
    "range(5)"
   ]
  },
  {
   "cell_type": "code",
   "execution_count": 5,
   "metadata": {},
   "outputs": [
    {
     "data": {
      "text/plain": [
       "[1,\n",
       " 2,\n",
       " 'Fizz',\n",
       " 4,\n",
       " 'Buzz',\n",
       " 'Fizz',\n",
       " 7,\n",
       " 8,\n",
       " 'Fizz',\n",
       " 'Buzz',\n",
       " 11,\n",
       " 'Fizz',\n",
       " 13,\n",
       " 14,\n",
       " 'FizzBuzz']"
      ]
     },
     "execution_count": 5,
     "metadata": {},
     "output_type": "execute_result"
    }
   ],
   "source": [
    "new_list = []\n",
    "i = 1\n",
    "while i < 16:\n",
    "    if i % 3 == 0 and i % 5 == 0:\n",
    "        new_list.append(\"FizzBuzz\")\n",
    "    elif i % 5 == 0:\n",
    "        new_list.append(\"Buzz\")\n",
    "    elif i % 3 == 0:\n",
    "        new_list.append(\"Fizz\")\n",
    "    else:\n",
    "        new_list.append(i)\n",
    "    i = i + 1\n",
    "\n",
    "new_list"
   ]
  },
  {
   "cell_type": "code",
   "execution_count": 6,
   "metadata": {},
   "outputs": [
    {
     "data": {
      "text/plain": [
       "[1,\n",
       " 'Fizz',\n",
       " 'Buzz',\n",
       " 'Fizz',\n",
       " 5,\n",
       " 'FizzBuzz',\n",
       " 7,\n",
       " 'Fizz',\n",
       " 'Buzz',\n",
       " 'Fizz',\n",
       " 11,\n",
       " 'FizzBuzz',\n",
       " 13,\n",
       " 'Fizz',\n",
       " 'Buzz']"
      ]
     },
     "execution_count": 6,
     "metadata": {},
     "output_type": "execute_result"
    }
   ],
   "source": [
    "new_list = []\n",
    "i = 1\n",
    "while i < 16:\n",
    "    if i % 2 == 0 and i % 3 == 0:\n",
    "        new_list.append(\"FizzBuzz\")\n",
    "    elif i % 3 == 0:\n",
    "        new_list.append(\"Buzz\")\n",
    "    elif i % 2 == 0:\n",
    "        new_list.append(\"Fizz\")\n",
    "    else:\n",
    "        new_list.append(i)\n",
    "    i = i + 1\n",
    "\n",
    "new_list"
   ]
  },
  {
   "cell_type": "code",
   "execution_count": 7,
   "metadata": {},
   "outputs": [
    {
     "data": {
      "text/plain": [
       "[1,\n",
       " 'Fizz',\n",
       " 3,\n",
       " 'Fizz',\n",
       " 5,\n",
       " 'Fizz',\n",
       " 'Buzz',\n",
       " 'Fizz',\n",
       " 9,\n",
       " 'Fizz',\n",
       " 11,\n",
       " 'Fizz',\n",
       " 13,\n",
       " 'FizzBuzz',\n",
       " 15]"
      ]
     },
     "execution_count": 7,
     "metadata": {},
     "output_type": "execute_result"
    }
   ],
   "source": [
    "new_list = []\n",
    "i = 1\n",
    "while i < 16:\n",
    "    if i % 2 == 0 and i % 7 == 0:\n",
    "        new_list.append(\"FizzBuzz\")\n",
    "    elif i % 7 == 0:\n",
    "        new_list.append(\"Buzz\")\n",
    "    elif i % 2 == 0:\n",
    "        new_list.append(\"Fizz\")\n",
    "    else:\n",
    "        new_list.append(i)\n",
    "    i = i + 1\n",
    "\n",
    "new_list"
   ]
  },
  {
   "cell_type": "markdown",
   "metadata": {},
   "source": [
    "1. FizzBuzz dengan 3 dan 5\n",
    "2. FizzBuzz dengan 2 dan 3\n",
    "3. FizzBuzz dengan 2 dan 7\n"
   ]
  },
  {
   "cell_type": "code",
   "execution_count": 8,
   "metadata": {},
   "outputs": [],
   "source": [
    "new_list_1 = []\n",
    "i = 1\n",
    "while i < 16:\n",
    "    if i % 3 == 0 and i % 5 == 0:\n",
    "        new_list_1.append(\"FizzBuzz\")\n",
    "    elif i % 5 == 0:\n",
    "        new_list_1.append(\"Buzz\")\n",
    "    elif i % 3 == 0:\n",
    "        new_list_1.append(\"Fizz\")\n",
    "    else:\n",
    "        new_list_1.append(i)\n",
    "    i = i + 1\n",
    "\n",
    "\n",
    "new_list_2 = []\n",
    "i = 1\n",
    "while i < 16:\n",
    "    if i % 2 == 0 and i % 3 == 0:\n",
    "        new_list_2.append(\"FizzBuzz\")\n",
    "    elif i % 3 == 0:\n",
    "        new_list_2.append(\"Buzz\")\n",
    "    elif i % 2 == 0:\n",
    "        new_list_2.append(\"Fizz\")\n",
    "    else:\n",
    "        new_list_2.append(i)\n",
    "    i = i + 1\n",
    "\n",
    "new_list_3 = []\n",
    "i = 1\n",
    "while i < 16:\n",
    "    if i % 2 == 0 and i % 7 == 0:\n",
    "        new_list_3.append(\"FizzBuzz\")\n",
    "    elif i % 7 == 0:\n",
    "        new_list_3.append(\"Buzz\")\n",
    "    elif i % 2 == 0:\n",
    "        new_list_3.append(\"Fizz\")\n",
    "    else:\n",
    "        new_list_3.append(i)\n",
    "    i = i + 1\n"
   ]
  },
  {
   "cell_type": "code",
   "execution_count": 9,
   "metadata": {},
   "outputs": [
    {
     "data": {
      "text/plain": [
       "[1,\n",
       " 2,\n",
       " 'Fizz',\n",
       " 4,\n",
       " 'Buzz',\n",
       " 'Fizz',\n",
       " 7,\n",
       " 8,\n",
       " 'Fizz',\n",
       " 'Buzz',\n",
       " 11,\n",
       " 'Fizz',\n",
       " 13,\n",
       " 14,\n",
       " 'FizzBuzz']"
      ]
     },
     "execution_count": 9,
     "metadata": {},
     "output_type": "execute_result"
    }
   ],
   "source": [
    "new_list_1"
   ]
  },
  {
   "cell_type": "code",
   "execution_count": 10,
   "metadata": {},
   "outputs": [
    {
     "data": {
      "text/plain": [
       "[1,\n",
       " 'Fizz',\n",
       " 'Buzz',\n",
       " 'Fizz',\n",
       " 5,\n",
       " 'FizzBuzz',\n",
       " 7,\n",
       " 'Fizz',\n",
       " 'Buzz',\n",
       " 'Fizz',\n",
       " 11,\n",
       " 'FizzBuzz',\n",
       " 13,\n",
       " 'Fizz',\n",
       " 'Buzz']"
      ]
     },
     "execution_count": 10,
     "metadata": {},
     "output_type": "execute_result"
    }
   ],
   "source": [
    "new_list_2"
   ]
  },
  {
   "cell_type": "code",
   "execution_count": 11,
   "metadata": {},
   "outputs": [
    {
     "data": {
      "text/plain": [
       "[1,\n",
       " 'Fizz',\n",
       " 3,\n",
       " 'Fizz',\n",
       " 5,\n",
       " 'Fizz',\n",
       " 'Buzz',\n",
       " 'Fizz',\n",
       " 9,\n",
       " 'Fizz',\n",
       " 11,\n",
       " 'Fizz',\n",
       " 13,\n",
       " 'FizzBuzz',\n",
       " 15]"
      ]
     },
     "execution_count": 11,
     "metadata": {},
     "output_type": "execute_result"
    }
   ],
   "source": [
    "new_list_3"
   ]
  },
  {
   "cell_type": "code",
   "execution_count": null,
   "metadata": {},
   "outputs": [],
   "source": [
    "new_list_1 = []\n",
    "i = 1\n",
    "while i < 16:\n",
    "    if i % x == 0 and i % y == 0:\n",
    "        new_list_1.append(\"FizzBuzz\")\n",
    "    elif i % y == 0:\n",
    "        new_list_1.append(\"Buzz\")\n",
    "    elif i % x == 0:\n",
    "        new_list_1.append(\"Fizz\")\n",
    "    else:\n",
    "        new_list_1.append(i)\n",
    "    i = i + 1"
   ]
  },
  {
   "cell_type": "code",
   "execution_count": null,
   "metadata": {},
   "outputs": [],
   "source": [
    "## defining a function\n",
    "def nama_function(argument):\n",
    "    # lakukan sesuatu\n",
    "    return"
   ]
  },
  {
   "cell_type": "code",
   "execution_count": null,
   "metadata": {},
   "outputs": [],
   "source": [
    "# pass -> dimana aja\n",
    "# break -> loop\n",
    "# continue -> loop"
   ]
  },
  {
   "cell_type": "code",
   "execution_count": 16,
   "metadata": {},
   "outputs": [],
   "source": [
    "# a -> b -> c -> d -> a\n",
    "#          continue\n",
    "#             -------> a"
   ]
  },
  {
   "cell_type": "code",
   "execution_count": 17,
   "metadata": {},
   "outputs": [],
   "source": [
    "def add_one(num):\n",
    "    num = num + 1\n",
    "    print(num)\n"
   ]
  },
  {
   "cell_type": "code",
   "execution_count": 18,
   "metadata": {},
   "outputs": [
    {
     "name": "stdout",
     "output_type": "stream",
     "text": [
      "5\n"
     ]
    }
   ],
   "source": [
    "print(5)"
   ]
  },
  {
   "cell_type": "code",
   "execution_count": null,
   "metadata": {},
   "outputs": [
    {
     "name": "stdout",
     "output_type": "stream",
     "text": [
      "6\n"
     ]
    }
   ],
   "source": [
    "print(5 + 1)"
   ]
  },
  {
   "cell_type": "code",
   "execution_count": 20,
   "metadata": {},
   "outputs": [
    {
     "name": "stdout",
     "output_type": "stream",
     "text": [
      "6\n"
     ]
    }
   ],
   "source": [
    "add_one(5)"
   ]
  },
  {
   "cell_type": "markdown",
   "metadata": {},
   "source": [
    "- function => process\n",
    "- process: input -> process -> output\n"
   ]
  },
  {
   "cell_type": "code",
   "execution_count": 21,
   "metadata": {},
   "outputs": [],
   "source": [
    "num_1 = 5"
   ]
  },
  {
   "cell_type": "code",
   "execution_count": 22,
   "metadata": {},
   "outputs": [
    {
     "name": "stdout",
     "output_type": "stream",
     "text": [
      "6\n"
     ]
    }
   ],
   "source": [
    "add_one(num_1)"
   ]
  },
  {
   "cell_type": "code",
   "execution_count": 23,
   "metadata": {},
   "outputs": [
    {
     "name": "stdout",
     "output_type": "stream",
     "text": [
      "6\n"
     ]
    }
   ],
   "source": [
    "hasil_akhir = add_one(num_1)"
   ]
  },
  {
   "cell_type": "code",
   "execution_count": 24,
   "metadata": {},
   "outputs": [],
   "source": [
    "hasil_akhir"
   ]
  },
  {
   "cell_type": "code",
   "execution_count": 25,
   "metadata": {},
   "outputs": [],
   "source": [
    "def add_one(num_input):\n",
    "    num_output = num_input + 1\n",
    "    return num_output  # output dari function\n"
   ]
  },
  {
   "cell_type": "code",
   "execution_count": 26,
   "metadata": {},
   "outputs": [
    {
     "data": {
      "text/plain": [
       "6"
      ]
     },
     "execution_count": 26,
     "metadata": {},
     "output_type": "execute_result"
    }
   ],
   "source": [
    "add_one(num_1)"
   ]
  },
  {
   "cell_type": "code",
   "execution_count": 27,
   "metadata": {},
   "outputs": [],
   "source": [
    "hasil_akhir = add_one(num_1)"
   ]
  },
  {
   "cell_type": "code",
   "execution_count": 28,
   "metadata": {},
   "outputs": [
    {
     "data": {
      "text/plain": [
       "6"
      ]
     },
     "execution_count": 28,
     "metadata": {},
     "output_type": "execute_result"
    }
   ],
   "source": [
    "hasil_akhir"
   ]
  },
  {
   "cell_type": "code",
   "execution_count": null,
   "metadata": {},
   "outputs": [],
   "source": [
    "(5, 3)"
   ]
  },
  {
   "cell_type": "code",
   "execution_count": 31,
   "metadata": {},
   "outputs": [
    {
     "data": {
      "text/plain": [
       "tuple"
      ]
     },
     "execution_count": 31,
     "metadata": {},
     "output_type": "execute_result"
    }
   ],
   "source": [
    "type((5, 3))"
   ]
  },
  {
   "cell_type": "code",
   "execution_count": 32,
   "metadata": {},
   "outputs": [
    {
     "ename": "TypeError",
     "evalue": "type() takes 1 or 3 arguments",
     "output_type": "error",
     "traceback": [
      "\u001b[0;31m---------------------------------------------------------------------------\u001b[0m",
      "\u001b[0;31mTypeError\u001b[0m                                 Traceback (most recent call last)",
      "Cell \u001b[0;32mIn[32], line 1\u001b[0m\n\u001b[0;32m----> 1\u001b[0m \u001b[38;5;28;43mtype\u001b[39;49m\u001b[43m(\u001b[49m\u001b[38;5;241;43m5\u001b[39;49m\u001b[43m,\u001b[49m\u001b[43m \u001b[49m\u001b[38;5;241;43m3\u001b[39;49m\u001b[43m)\u001b[49m\n",
      "\u001b[0;31mTypeError\u001b[0m: type() takes 1 or 3 arguments"
     ]
    }
   ],
   "source": [
    "type(5, 3)"
   ]
  },
  {
   "cell_type": "code",
   "execution_count": 33,
   "metadata": {},
   "outputs": [],
   "source": [
    "def calc_area(length, width):\n",
    "    area = length * width\n",
    "    return area"
   ]
  },
  {
   "cell_type": "code",
   "execution_count": 34,
   "metadata": {},
   "outputs": [
    {
     "data": {
      "text/plain": [
       "15"
      ]
     },
     "execution_count": 34,
     "metadata": {},
     "output_type": "execute_result"
    }
   ],
   "source": [
    "calc_area(5, 3)"
   ]
  },
  {
   "cell_type": "code",
   "execution_count": 35,
   "metadata": {},
   "outputs": [
    {
     "data": {
      "text/plain": [
       "15"
      ]
     },
     "execution_count": 35,
     "metadata": {},
     "output_type": "execute_result"
    }
   ],
   "source": [
    "5 * 3"
   ]
  },
  {
   "cell_type": "code",
   "execution_count": null,
   "metadata": {},
   "outputs": [],
   "source": [
    "def calc_area(length, width):\n",
    "    print(\"Info:\")\n",
    "    print(f\"Length = {length}\")\n",
    "    print(f\"Width = {width}\")\n",
    "    return length * width"
   ]
  },
  {
   "cell_type": "code",
   "execution_count": 38,
   "metadata": {},
   "outputs": [
    {
     "data": {
      "text/plain": [
       "15"
      ]
     },
     "execution_count": 38,
     "metadata": {},
     "output_type": "execute_result"
    }
   ],
   "source": [
    "calc_area(5, 3)"
   ]
  },
  {
   "cell_type": "code",
   "execution_count": 46,
   "metadata": {},
   "outputs": [],
   "source": [
    "var_length = 5\n",
    "var_width = 3"
   ]
  },
  {
   "cell_type": "code",
   "execution_count": 47,
   "metadata": {},
   "outputs": [
    {
     "name": "stdout",
     "output_type": "stream",
     "text": [
      "Info:\n",
      "Length = 3\n",
      "Width = 5\n"
     ]
    },
    {
     "data": {
      "text/plain": [
       "15"
      ]
     },
     "execution_count": 47,
     "metadata": {},
     "output_type": "execute_result"
    }
   ],
   "source": [
    "calc_area(var_width, var_length)"
   ]
  },
  {
   "cell_type": "code",
   "execution_count": 48,
   "metadata": {},
   "outputs": [
    {
     "name": "stdout",
     "output_type": "stream",
     "text": [
      "Info:\n",
      "Length = 5\n",
      "Width = 3\n"
     ]
    },
    {
     "data": {
      "text/plain": [
       "15"
      ]
     },
     "execution_count": 48,
     "metadata": {},
     "output_type": "execute_result"
    }
   ],
   "source": [
    "calc_area(var_length, var_width)"
   ]
  },
  {
   "cell_type": "code",
   "execution_count": 49,
   "metadata": {},
   "outputs": [
    {
     "name": "stdout",
     "output_type": "stream",
     "text": [
      "Info:\n",
      "Length = 5\n",
      "Width = 3\n"
     ]
    },
    {
     "data": {
      "text/plain": [
       "15"
      ]
     },
     "execution_count": 49,
     "metadata": {},
     "output_type": "execute_result"
    }
   ],
   "source": [
    "calc_area(length=var_length, width=var_width)"
   ]
  },
  {
   "cell_type": "code",
   "execution_count": 50,
   "metadata": {},
   "outputs": [
    {
     "name": "stdout",
     "output_type": "stream",
     "text": [
      "Info:\n",
      "Length = 3\n",
      "Width = 5\n"
     ]
    },
    {
     "data": {
      "text/plain": [
       "15"
      ]
     },
     "execution_count": 50,
     "metadata": {},
     "output_type": "execute_result"
    }
   ],
   "source": [
    "calc_area(length=var_width, width=var_length)"
   ]
  },
  {
   "cell_type": "code",
   "execution_count": null,
   "metadata": {},
   "outputs": [],
   "source": [
    "def exponent(base, exp):\n",
    "    return base**exp"
   ]
  },
  {
   "cell_type": "code",
   "execution_count": 62,
   "metadata": {},
   "outputs": [
    {
     "data": {
      "text/plain": [
       "9"
      ]
     },
     "execution_count": 62,
     "metadata": {},
     "output_type": "execute_result"
    }
   ],
   "source": [
    "var_base = 3\n",
    "var_exp = 2\n",
    "\n",
    "exponent(var_base, var_exp)"
   ]
  },
  {
   "cell_type": "code",
   "execution_count": 63,
   "metadata": {},
   "outputs": [
    {
     "data": {
      "text/plain": [
       "8"
      ]
     },
     "execution_count": 63,
     "metadata": {},
     "output_type": "execute_result"
    }
   ],
   "source": [
    "exponent(var_exp, var_base)"
   ]
  },
  {
   "cell_type": "code",
   "execution_count": 64,
   "metadata": {},
   "outputs": [
    {
     "data": {
      "text/plain": [
       "9"
      ]
     },
     "execution_count": 64,
     "metadata": {},
     "output_type": "execute_result"
    }
   ],
   "source": [
    "exponent(base=var_base, exp=var_exp)"
   ]
  },
  {
   "cell_type": "code",
   "execution_count": 65,
   "metadata": {},
   "outputs": [
    {
     "data": {
      "text/plain": [
       "9"
      ]
     },
     "execution_count": 65,
     "metadata": {},
     "output_type": "execute_result"
    }
   ],
   "source": [
    "exponent(exp=var_exp, base=var_base)"
   ]
  },
  {
   "cell_type": "markdown",
   "metadata": {},
   "source": [
    "#### Beware of mutable object in function\n"
   ]
  },
  {
   "cell_type": "code",
   "execution_count": null,
   "metadata": {},
   "outputs": [
    {
     "name": "stdout",
     "output_type": "stream",
     "text": [
      "Memory: 140328293953664\n",
      "Value: [1, 2, 3, 4, 'lima', 'enam']\n"
     ]
    }
   ],
   "source": [
    "# assignment\n",
    "var_list = [1, 2, 3, 4, \"lima\", \"enam\"]\n",
    "print(\"Memory:\", id(var_list))\n",
    "print(\"Value:\", var_list)"
   ]
  },
  {
   "cell_type": "code",
   "execution_count": 92,
   "metadata": {},
   "outputs": [
    {
     "name": "stdout",
     "output_type": "stream",
     "text": [
      "Memory: 140328293953664\n",
      "Value: [1, 2, 3, 4, 'lima', 'enam', 'tujuh']\n"
     ]
    }
   ],
   "source": [
    "# mutation\n",
    "var_list.append(\"tujuh\")\n",
    "print(\"Memory:\", id(var_list))\n",
    "print(\"Value:\", var_list)"
   ]
  },
  {
   "cell_type": "code",
   "execution_count": null,
   "metadata": {},
   "outputs": [
    {
     "name": "stdout",
     "output_type": "stream",
     "text": [
      "Memory: 140328407320960\n",
      "Value: [1, 2, 3, 4, 'lima', 'enam', 'tujuh', 'delapan']\n"
     ]
    }
   ],
   "source": [
    "# reassignment, not mutation\n",
    "var_list = [1, 2, 3, 4, \"lima\", \"enam\", \"tujuh\", \"delapan\"]\n",
    "print(\"Memory:\", id(var_list))\n",
    "print(\"Value:\", var_list)"
   ]
  },
  {
   "cell_type": "code",
   "execution_count": 94,
   "metadata": {},
   "outputs": [
    {
     "name": "stdout",
     "output_type": "stream",
     "text": [
      "Memory: 140328272913952\n",
      "Value: (1, 2, 3, 4, 'lima', 'enam')\n"
     ]
    }
   ],
   "source": [
    "var_tuple = (1, 2, 3, 4, \"lima\", \"enam\")\n",
    "print(\"Memory:\", id(var_tuple))\n",
    "print(\"Value:\", var_tuple)"
   ]
  },
  {
   "cell_type": "code",
   "execution_count": 95,
   "metadata": {},
   "outputs": [
    {
     "name": "stdout",
     "output_type": "stream",
     "text": [
      "Memory: 140328315076160\n",
      "Value: (1, 2, 3, 4, 'lima', 'enam', 'tujuh', 'delapan')\n"
     ]
    }
   ],
   "source": [
    "var_tuple = (1, 2, 3, 4, \"lima\", \"enam\", \"tujuh\", \"delapan\")\n",
    "print(\"Memory:\", id(var_tuple))\n",
    "print(\"Value:\", var_tuple)\n"
   ]
  },
  {
   "cell_type": "markdown",
   "metadata": {},
   "source": [
    "### Global and local variable\n"
   ]
  },
  {
   "cell_type": "code",
   "execution_count": 102,
   "metadata": {},
   "outputs": [],
   "source": [
    "def exponent(base, exp):\n",
    "    print(\"Memory base:\", id(base))\n",
    "    print(\"Memory exp:\", id(exp))\n",
    "    base = base\n",
    "    exp = exp\n",
    "    print(\"Memory base after reassignment:\", id(base))\n",
    "    print(\"Memory exp after reassignment:\", id(exp))\n",
    "    return base**exp"
   ]
  },
  {
   "cell_type": "code",
   "execution_count": 103,
   "metadata": {},
   "outputs": [
    {
     "name": "stdout",
     "output_type": "stream",
     "text": [
      "Memory base: 140328518535336\n",
      "Memory exp: 140328518535304\n"
     ]
    }
   ],
   "source": [
    "base = 3\n",
    "exp = 2\n",
    "\n",
    "print(\"Memory base:\", id(base))\n",
    "print(\"Memory exp:\", id(exp))"
   ]
  },
  {
   "cell_type": "code",
   "execution_count": 104,
   "metadata": {},
   "outputs": [
    {
     "name": "stdout",
     "output_type": "stream",
     "text": [
      "Memory base: 140328518535336\n",
      "Memory exp: 140328518535304\n",
      "Memory base after reassignment: 140328518535336\n",
      "Memory exp after reassignment: 140328518535304\n"
     ]
    },
    {
     "data": {
      "text/plain": [
       "9"
      ]
     },
     "execution_count": 104,
     "metadata": {},
     "output_type": "execute_result"
    }
   ],
   "source": [
    "exponent(base, exp)"
   ]
  },
  {
   "cell_type": "code",
   "execution_count": 108,
   "metadata": {},
   "outputs": [
    {
     "name": "stdout",
     "output_type": "stream",
     "text": [
      "Memory awal: 140328314409088\n",
      "Memory akhir: 140328314409088\n"
     ]
    }
   ],
   "source": [
    "list_a = [1, 2, 3]\n",
    "print(\"Memory awal:\", id(list_a))\n",
    "list_a.append(4)  # mutation\n",
    "print(\"Memory akhir:\", id(list_a))"
   ]
  },
  {
   "cell_type": "code",
   "execution_count": 112,
   "metadata": {},
   "outputs": [
    {
     "name": "stdout",
     "output_type": "stream",
     "text": [
      "Memory awal: 140328283497024\n",
      "Memory akhir: 140328283497024\n"
     ]
    }
   ],
   "source": [
    "list_b = [1, 2, 3]\n",
    "print(\"Memory awal:\", id(list_b))\n",
    "list_b = list_b  # assignment, not mutation\n",
    "print(\"Memory akhir:\", id(list_b))"
   ]
  },
  {
   "cell_type": "code",
   "execution_count": null,
   "metadata": {},
   "outputs": [],
   "source": [
    "def add_member_destructive(array, new_member):\n",
    "    print(\"Memory array:\", id(array))\n",
    "    array.append(new_member)  # mutation\n",
    "    print(\"Memory array after mutation:\", id(array))\n",
    "    return array\n",
    "\n",
    "\n",
    "def add_member_destructive_patched(array, new_member):\n",
    "    print(\"Memory array:\", id(array))\n",
    "    array = array[:]\n",
    "    print(\"Memory array after reassignment:\", id(array))\n",
    "    array.append(new_member)  # mutation\n",
    "    print(\"Memory array after mutation:\", id(array))\n",
    "    return array\n",
    "\n",
    "\n",
    "def add_member_non_destructive(array: list, new_member):\n",
    "    print(\"Memory array:\", id(array))\n",
    "    array = array + [new_member]  # assignment, not mutation\n",
    "    print(\"Memory array after reassignment:\", id(array))\n",
    "    return array"
   ]
  },
  {
   "cell_type": "code",
   "execution_count": 125,
   "metadata": {},
   "outputs": [
    {
     "name": "stdout",
     "output_type": "stream",
     "text": [
      "Memory awal: 140328314428544\n",
      "Value awal: [1, 2, 3]\n",
      "Memory array: 140328314428544\n",
      "Memory array after mutation: 140328314428544\n",
      "Memory akhir: 140328314428544\n",
      "Value akhir input: [1, 2, 3, 4]\n",
      "Value output: [1, 2, 3, 4]\n"
     ]
    }
   ],
   "source": [
    "input_list = [1, 2, 3]\n",
    "print(\"Memory awal:\", id(input_list))\n",
    "print(\"Value awal:\", input_list)\n",
    "output_list = add_member_destructive(input_list, 4)\n",
    "print(\"Memory akhir:\", id(input_list))\n",
    "print(\"Value akhir input:\", input_list)\n",
    "print(\"Value output:\", output_list)"
   ]
  },
  {
   "cell_type": "code",
   "execution_count": 124,
   "metadata": {},
   "outputs": [
    {
     "name": "stdout",
     "output_type": "stream",
     "text": [
      "Memory awal: 140328293756160\n",
      "Value awal: [1, 2, 3]\n",
      "Memory array: 140328293756160\n",
      "Memory array after reassignment: 140328293947584\n",
      "Memory array after mutation: 140328293947584\n",
      "Memory akhir: 140328293756160\n",
      "Value akhir input: [1, 2, 3]\n",
      "Value output: [1, 2, 3, 4]\n"
     ]
    }
   ],
   "source": [
    "input_list = [1, 2, 3]\n",
    "print(\"Memory awal:\", id(input_list))\n",
    "print(\"Value awal:\", input_list)\n",
    "output_list = add_member_destructive_patched(input_list, 4)\n",
    "print(\"Memory akhir:\", id(input_list))\n",
    "print(\"Value akhir input:\", input_list)\n",
    "print(\"Value output:\", output_list)"
   ]
  },
  {
   "cell_type": "code",
   "execution_count": 119,
   "metadata": {},
   "outputs": [
    {
     "name": "stdout",
     "output_type": "stream",
     "text": [
      "Memory awal: 140328293284544\n",
      "Value awal: [1, 2, 3]\n",
      "Memory array: 140328293284544\n",
      "Memory array after reassignment: 140328283497344\n",
      "Memory akhir: 140328293284544\n",
      "Value akhir input: [1, 2, 3]\n",
      "Value output: [1, 2, 3, 4]\n"
     ]
    }
   ],
   "source": [
    "input_list = [1, 2, 3]\n",
    "print(\"Memory awal:\", id(input_list))\n",
    "print(\"Value awal:\", input_list)\n",
    "output_list = add_member_non_destructive(input_list, 4)\n",
    "print(\"Memory akhir:\", id(input_list))\n",
    "print(\"Value akhir input:\", input_list)\n",
    "print(\"Value output:\", output_list)"
   ]
  },
  {
   "cell_type": "code",
   "execution_count": 122,
   "metadata": {},
   "outputs": [
    {
     "name": "stdout",
     "output_type": "stream",
     "text": [
      "140328283499712\n"
     ]
    }
   ],
   "source": [
    "print(id(output_list))"
   ]
  },
  {
   "cell_type": "code",
   "execution_count": null,
   "metadata": {},
   "outputs": [
    {
     "ename": "SyntaxError",
     "evalue": "positional argument follows keyword argument (2717908626.py, line 10)",
     "output_type": "error",
     "traceback": [
      "\u001b[0;36m  Cell \u001b[0;32mIn[142], line 10\u001b[0;36m\u001b[0m\n\u001b[0;31m    )  # keyword argument, then positional argument\u001b[0m\n\u001b[0m    ^\u001b[0m\n\u001b[0;31mSyntaxError\u001b[0m\u001b[0;31m:\u001b[0m positional argument follows keyword argument\n"
     ]
    }
   ],
   "source": [
    "# argument\n",
    "# keyword argument\n",
    "# positional argument has to be before keyword argument\n",
    "add_member_non_destructive(input_list, 4)  # positional argument\n",
    "add_member_non_destructive(array=input_list, new_member=4)  # keyword argument\n",
    "add_member_non_destructive(new_member=4, array=input_list)  # keyword argument\n",
    "add_member_non_destructive(\n",
    "    input_list, new_member=4\n",
    ")  # positional argument, then keyword argument"
   ]
  },
  {
   "cell_type": "code",
   "execution_count": 145,
   "metadata": {},
   "outputs": [],
   "source": [
    "def add_member(array: list, new_member):\n",
    "    return array + [new_member]"
   ]
  },
  {
   "cell_type": "code",
   "execution_count": null,
   "metadata": {},
   "outputs": [
    {
     "ename": "TypeError",
     "evalue": "add_member() missing 1 required positional argument: 'new_member'",
     "output_type": "error",
     "traceback": [
      "\u001b[0;31m---------------------------------------------------------------------------\u001b[0m",
      "\u001b[0;31mTypeError\u001b[0m                                 Traceback (most recent call last)",
      "Cell \u001b[0;32mIn[149], line 1\u001b[0m\n\u001b[0;32m----> 1\u001b[0m \u001b[43madd_member\u001b[49m\u001b[43m(\u001b[49m\u001b[43m[\u001b[49m\u001b[38;5;241;43m1\u001b[39;49m\u001b[43m,\u001b[49m\u001b[43m \u001b[49m\u001b[38;5;241;43m2\u001b[39;49m\u001b[43m,\u001b[49m\u001b[43m \u001b[49m\u001b[38;5;241;43m3\u001b[39;49m\u001b[43m]\u001b[49m\u001b[43m \u001b[49m\u001b[43m)\u001b[49m\n",
      "\u001b[0;31mTypeError\u001b[0m: add_member() missing 1 required positional argument: 'new_member'"
     ]
    }
   ],
   "source": [
    "add_member([1, 2, 3])"
   ]
  },
  {
   "cell_type": "code",
   "execution_count": 150,
   "metadata": {},
   "outputs": [
    {
     "ename": "TypeError",
     "evalue": "add_member() missing 1 required positional argument: 'new_member'",
     "output_type": "error",
     "traceback": [
      "\u001b[0;31m---------------------------------------------------------------------------\u001b[0m",
      "\u001b[0;31mTypeError\u001b[0m                                 Traceback (most recent call last)",
      "Cell \u001b[0;32mIn[150], line 1\u001b[0m\n\u001b[0;32m----> 1\u001b[0m \u001b[43madd_member\u001b[49m\u001b[43m(\u001b[49m\u001b[43marray\u001b[49m\u001b[38;5;241;43m=\u001b[39;49m\u001b[43m[\u001b[49m\u001b[38;5;241;43m1\u001b[39;49m\u001b[43m,\u001b[49m\u001b[43m \u001b[49m\u001b[38;5;241;43m2\u001b[39;49m\u001b[43m,\u001b[49m\u001b[43m \u001b[49m\u001b[38;5;241;43m3\u001b[39;49m\u001b[43m]\u001b[49m\u001b[43m)\u001b[49m\n",
      "\u001b[0;31mTypeError\u001b[0m: add_member() missing 1 required positional argument: 'new_member'"
     ]
    }
   ],
   "source": [
    "add_member(array=[1, 2, 3])"
   ]
  },
  {
   "cell_type": "code",
   "execution_count": 151,
   "metadata": {},
   "outputs": [
    {
     "ename": "TypeError",
     "evalue": "add_member() missing 1 required positional argument: 'array'",
     "output_type": "error",
     "traceback": [
      "\u001b[0;31m---------------------------------------------------------------------------\u001b[0m",
      "\u001b[0;31mTypeError\u001b[0m                                 Traceback (most recent call last)",
      "Cell \u001b[0;32mIn[151], line 1\u001b[0m\n\u001b[0;32m----> 1\u001b[0m \u001b[43madd_member\u001b[49m\u001b[43m(\u001b[49m\u001b[43mnew_member\u001b[49m\u001b[38;5;241;43m=\u001b[39;49m\u001b[38;5;241;43m4\u001b[39;49m\u001b[43m)\u001b[49m\n",
      "\u001b[0;31mTypeError\u001b[0m: add_member() missing 1 required positional argument: 'array'"
     ]
    }
   ],
   "source": [
    "add_member(new_member=4)"
   ]
  },
  {
   "cell_type": "code",
   "execution_count": 152,
   "metadata": {},
   "outputs": [],
   "source": [
    "def add_member(array: list, new_member=\"default\"):\n",
    "    return array + [new_member]"
   ]
  },
  {
   "cell_type": "code",
   "execution_count": 154,
   "metadata": {},
   "outputs": [
    {
     "data": {
      "text/plain": [
       "[1, 2, 3, {'name': 'John'}]"
      ]
     },
     "execution_count": 154,
     "metadata": {},
     "output_type": "execute_result"
    }
   ],
   "source": [
    "add_member([1, 2, 3], {\"name\": \"John\"})"
   ]
  },
  {
   "cell_type": "code",
   "execution_count": 155,
   "metadata": {},
   "outputs": [
    {
     "data": {
      "text/plain": [
       "[1, 2, 3, 'default']"
      ]
     },
     "execution_count": 155,
     "metadata": {},
     "output_type": "execute_result"
    }
   ],
   "source": [
    "add_member([1, 2, 3])"
   ]
  },
  {
   "cell_type": "code",
   "execution_count": 156,
   "metadata": {},
   "outputs": [],
   "source": [
    "def add_member(array: list = [\"a\", \"b\", \"c\"], new_member=\"default\"):\n",
    "    return array + [new_member]"
   ]
  },
  {
   "cell_type": "code",
   "execution_count": 157,
   "metadata": {},
   "outputs": [
    {
     "data": {
      "text/plain": [
       "['a', 'b', 'c', 'default']"
      ]
     },
     "execution_count": 157,
     "metadata": {},
     "output_type": "execute_result"
    }
   ],
   "source": [
    "add_member()"
   ]
  },
  {
   "cell_type": "code",
   "execution_count": 158,
   "metadata": {},
   "outputs": [
    {
     "data": {
      "text/plain": [
       "[1, 2, 3, {'name': 'John'}]"
      ]
     },
     "execution_count": 158,
     "metadata": {},
     "output_type": "execute_result"
    }
   ],
   "source": [
    "add_member([1, 2, 3], {\"name\": \"John\"})"
   ]
  },
  {
   "cell_type": "code",
   "execution_count": 159,
   "metadata": {},
   "outputs": [
    {
     "ename": "SyntaxError",
     "evalue": "parameter without a default follows parameter with a default (87647881.py, line 1)",
     "output_type": "error",
     "traceback": [
      "\u001b[0;36m  Cell \u001b[0;32mIn[159], line 1\u001b[0;36m\u001b[0m\n\u001b[0;31m    def add_member(array: list = [\"a\", \"b\", \"c\"], new_member):\u001b[0m\n\u001b[0m                                                  ^\u001b[0m\n\u001b[0;31mSyntaxError\u001b[0m\u001b[0;31m:\u001b[0m parameter without a default follows parameter with a default\n"
     ]
    }
   ],
   "source": [
    "def add_member(array: list = [\"a\", \"b\", \"c\"], new_member):\n",
    "    return array + [new_member]"
   ]
  },
  {
   "cell_type": "code",
   "execution_count": null,
   "metadata": {},
   "outputs": [
    {
     "ename": "SyntaxError",
     "evalue": "parameter without a default follows parameter with a default (87647881.py, line 1)",
     "output_type": "error",
     "traceback": [
      "\u001b[0;36m  Cell \u001b[0;32mIn[159], line 1\u001b[0;36m\u001b[0m\n",
      "\u001b[0;31m    def add_member(array: list = [\"a\", \"b\", \"c\"], new_member):\u001b[0m\n",
      "\u001b[0m                                                  ^\u001b[0m\n",
      "\u001b[0;31mSyntaxError\u001b[0m\u001b[0;31m:\u001b[0m parameter without a default follows parameter with a default\n"
     ]
    }
   ],
   "source": [
    "def add_member(new_member, array: list = [\"a\", \"b\", \"c\"]):\n",
    "    return array + [new_member]"
   ]
  },
  {
   "cell_type": "markdown",
   "metadata": {},
   "source": [
    "- \\*args -> arguments\n",
    "- \\*\\*kwargs -> keyword arguments\n"
   ]
  },
  {
   "cell_type": "code",
   "execution_count": 170,
   "metadata": {},
   "outputs": [],
   "source": [
    "def make_pizza(category, *args):\n",
    "    return {category: list(args)}"
   ]
  },
  {
   "cell_type": "code",
   "execution_count": 173,
   "metadata": {},
   "outputs": [
    {
     "data": {
      "text/plain": [
       "{'toppings': ['keju', 'tomat', 'jamur']}"
      ]
     },
     "execution_count": 173,
     "metadata": {},
     "output_type": "execute_result"
    }
   ],
   "source": [
    "make_pizza(\"toppings\", \"keju\", \"tomat\", \"jamur\")"
   ]
  },
  {
   "cell_type": "code",
   "execution_count": 177,
   "metadata": {},
   "outputs": [],
   "source": [
    "def make_pizza(**kwargs):\n",
    "    return kwargs"
   ]
  },
  {
   "cell_type": "code",
   "execution_count": 178,
   "metadata": {},
   "outputs": [
    {
     "data": {
      "text/plain": [
       "{'topping_1': 'keju', 'topping_2': 'tomat', 'topping_3': 'jamur'}"
      ]
     },
     "execution_count": 178,
     "metadata": {},
     "output_type": "execute_result"
    }
   ],
   "source": [
    "make_pizza(topping_1=\"keju\", topping_2=\"tomat\", topping_3=\"jamur\")"
   ]
  },
  {
   "cell_type": "code",
   "execution_count": null,
   "metadata": {},
   "outputs": [],
   "source": [
    "def make_pizza(category, **kwargs):\n",
    "    return {category: list(kwargs.values())}"
   ]
  },
  {
   "cell_type": "code",
   "execution_count": 182,
   "metadata": {},
   "outputs": [
    {
     "data": {
      "text/plain": [
       "{'topping': ['keju', 'tomat', 'jamur']}"
      ]
     },
     "execution_count": 182,
     "metadata": {},
     "output_type": "execute_result"
    }
   ],
   "source": [
    "make_pizza(\"topping\", topping_1=\"keju\", topping_2=\"tomat\", topping_3=\"jamur\")"
   ]
  },
  {
   "cell_type": "code",
   "execution_count": 183,
   "metadata": {},
   "outputs": [],
   "source": [
    "from pathlib import Path"
   ]
  },
  {
   "cell_type": "code",
   "execution_count": 184,
   "metadata": {},
   "outputs": [
    {
     "data": {
      "text/plain": [
       "PosixPath('/home/nikki/workspace/h8/h8-112-rmt/notebooks')"
      ]
     },
     "execution_count": 184,
     "metadata": {},
     "output_type": "execute_result"
    }
   ],
   "source": [
    "Path.cwd()"
   ]
  },
  {
   "cell_type": "code",
   "execution_count": 1,
   "metadata": {},
   "outputs": [],
   "source": [
    "from pkg.mod import add_member, Foo"
   ]
  },
  {
   "cell_type": "code",
   "execution_count": 2,
   "metadata": {},
   "outputs": [
    {
     "data": {
      "text/plain": [
       "['a', 'b', 'c', 'default']"
      ]
     },
     "execution_count": 2,
     "metadata": {},
     "output_type": "execute_result"
    }
   ],
   "source": [
    "add_member()"
   ]
  },
  {
   "cell_type": "code",
   "execution_count": 4,
   "metadata": {},
   "outputs": [
    {
     "name": "stdout",
     "output_type": "stream",
     "text": [
      "bar\n"
     ]
    }
   ],
   "source": [
    "Foo().bar()"
   ]
  },
  {
   "cell_type": "markdown",
   "metadata": {},
   "source": [
    "```\n",
    "h8-112-rmt\n",
    "---notebooks\n",
    "------session-03 <-- you are here\n",
    "------pkg\n",
    "---------mod\n",
    "------------add_member\n",
    "---Untitled-1\n",
    "```\n"
   ]
  }
 ],
 "metadata": {
  "kernelspec": {
   "display_name": ".venv",
   "language": "python",
   "name": "python3"
  },
  "language_info": {
   "codemirror_mode": {
    "name": "ipython",
    "version": 3
   },
   "file_extension": ".py",
   "mimetype": "text/x-python",
   "name": "python",
   "nbconvert_exporter": "python",
   "pygments_lexer": "ipython3",
   "version": "3.12.7"
  }
 },
 "nbformat": 4,
 "nbformat_minor": 2
}
